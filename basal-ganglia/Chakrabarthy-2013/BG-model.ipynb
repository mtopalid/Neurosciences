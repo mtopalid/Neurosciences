{
 "metadata": {
  "name": ""
 },
 "nbformat": 3,
 "nbformat_minor": 0,
 "worksheets": [
  {
   "cells": [
    {
     "cell_type": "markdown",
     "metadata": {},
     "source": [
      "Distributed under the (new) BSD License.\n",
      "Copyright (c) 2014, Nicolas P. Rougier\n",
      "\n",
      "Contributors: Nicolas P. Rougier (Nicolas.Rougier@inria.fr),\n",
      "              Meropi Topalidou (Meropi.Topalidou@inria.fr)"
     ]
    },
    {
     "cell_type": "markdown",
     "metadata": {},
     "source": [
      "### Packages import"
     ]
    },
    {
     "cell_type": "code",
     "collapsed": false,
     "input": [
      "from dana import *\n",
      "import matplotlib.pyplot as plt\n",
      "%pylab --no-import-all"
     ],
     "language": "python",
     "metadata": {},
     "outputs": [
      {
       "output_type": "stream",
       "stream": "stdout",
       "text": [
        "Using matplotlib backend: module://IPython.kernel.zmq.pylab.backend_inline\n",
        "Populating the interactive namespace from numpy and matplotlib\n"
       ]
      }
     ],
     "prompt_number": 19
    },
    {
     "cell_type": "markdown",
     "metadata": {},
     "source": [
      "### Helper functions"
     ]
    },
    {
     "cell_type": "code",
     "collapsed": false,
     "input": [
      "def H(x):\n",
      "    return 1 if x > 0 else 0\n",
      "   "
     ],
     "language": "python",
     "metadata": {},
     "outputs": [],
     "prompt_number": 20
    },
    {
     "cell_type": "markdown",
     "metadata": {},
     "source": [
      "### Simulation parameters"
     ]
    },
    {
     "cell_type": "code",
     "collapsed": false,
     "input": [
      "# Population size\n",
      "n = 20\n",
      "\n",
      "# Default trial duration\n",
      "duration = 100.0*millisecond\n",
      "\n",
      "# Default Time resolution\n",
      "dt = 1.0*millisecond\n",
      "\n",
      "# Initialization of the random generator (reproductibility !)\n",
      "np.random.seed(1)\n"
     ],
     "language": "python",
     "metadata": {},
     "outputs": [],
     "prompt_number": 21
    },
    {
     "cell_type": "code",
     "collapsed": false,
     "input": [
      "# Dopamine levels\n",
      "delta = -2"
     ],
     "language": "python",
     "metadata": {},
     "outputs": [],
     "prompt_number": 22
    },
    {
     "cell_type": "code",
     "collapsed": false,
     "input": [
      "# Time constants\n",
      "tau_GPe = 10\n",
      "tau_STN = 10\n",
      "tau_GPi = 10"
     ],
     "language": "python",
     "metadata": {},
     "outputs": [],
     "prompt_number": 23
    },
    {
     "cell_type": "code",
     "collapsed": false,
     "input": [
      "theta_D1 =0.1\n",
      "theta_D2 = 0.1\n",
      "theta_GPe = 0.1\n",
      "theta_STN = 0.1"
     ],
     "language": "python",
     "metadata": {},
     "outputs": [],
     "prompt_number": 24
    },
    {
     "cell_type": "code",
     "collapsed": false,
     "input": [
      "# Compute of parameters\n",
      "lamda_D1 = 5*(1/1+np.exp(-6*(delta - theta_D1)))\n",
      "lamda_D2 = 5*(1/1+np.exp(-6*(theta_D2 - delta)))\n",
      "lamda_GPe = 4 * H(theta_GPe - delta) + 1;  \n",
      "lamda_STN = 4 * H(theta_STN - delta) + 1\n"
     ],
     "language": "python",
     "metadata": {},
     "outputs": [],
     "prompt_number": 25
    },
    {
     "cell_type": "code",
     "collapsed": false,
     "input": [
      "r = np.zeros((n,n,n,n))\n",
      "for i in range(0,n):\n",
      "    for j in range(0,n):\n",
      "        for p in range(0,n):\n",
      "            for q in range(0,n):\n",
      "                r[i,j,p,q] = np.sqrt((i-p)**2 + (j-q)**2)\n",
      "                      \n",
      "d = np.zeros((n,n))\n",
      "for i in range(0,n):\n",
      "    for p in range(0,n):\n",
      "        d[i,p] = np.abs(i-p)\n",
      "\n",
      "                           "
     ],
     "language": "python",
     "metadata": {},
     "outputs": [],
     "prompt_number": 26
    },
    {
     "cell_type": "code",
     "collapsed": false,
     "input": [
      "k_x = 2*np.pi/n                                \n",
      "A = 10 \n",
      "sigma =1.2\n",
      "C = 0.2\n",
      "#parameters A, sigma, Ce{0.1,0.3}, k_x, tau are from the article from Standage "
     ],
     "language": "python",
     "metadata": {},
     "outputs": [],
     "prompt_number": 27
    },
    {
     "cell_type": "code",
     "collapsed": false,
     "input": [
      "W_lat = 1\n",
      "#W_lat = sigma_STN * np.exp(-r^2/sigma_lat^2 ) if r < R else -1 if r =0 else 0; r; R; sigma_STN = 1; sigma_lat = 0.2; \n",
      "w_sg = 1\n",
      "w_gs = 1\n",
      "W_GPe = np.ones((1,n))\n",
      "W_GPi = A * np.exp(-d**2/(2*sigma**2)) - C;\n",
      "W_STN_GPi = np.ones((1,n))*1./n\n"
     ],
     "language": "python",
     "metadata": {},
     "outputs": [],
     "prompt_number": 28
    },
    {
     "cell_type": "markdown",
     "metadata": {},
     "source": [
      "### Populations"
     ]
    },
    {
     "cell_type": "code",
     "collapsed": false,
     "input": [
      "Striatum_D1 = zeros((n,1), \"\"\"du/dt = -u + V + I_ext;    \n",
      "                              V = np.tanh(lamda_D1* u); \n",
      "                              I_ext\"\"\")\n",
      "                                             \n",
      "Striatum_D2 = zeros((n,1), \"\"\"du/dt = -u + V + I_ext;\n",
      "                              V = np.tanh(lamda_D2* u);   \n",
      "                              I_ext\"\"\") \n",
      "\n",
      "GPe = zeros((n,n), \"\"\"dx/dt = (-x +  W_lat * np.ones(U.shape) * np.sum(U) +  I_STN * w_sg + I_Str) / tau_GPe;\n",
      "                      U = np.tanh(lamda_GPe * x);  \n",
      "                      I_Str = W_GPe * V_D2;\n",
      "                      V_D2; I_STN\"\"\")\n",
      "                                 \n",
      "                                \n",
      "STN = zeros((n,n), \"\"\"dx/dt = (-x +  W_lat * np.ones(U.shape) * np.sum(U) +  I_GPe * w_gs + I_Str) / tau_STN;    \n",
      "                      U = np.tanh(lamda_STN * x);  \n",
      "                      I_Str = W_GPe * V_D2; \n",
      "                      V_D2; I_GPe\"\"\")\n",
      "                               \n",
      "\n",
      "GPi = zeros((n,1), \"\"\"du/dt = (-u + np.dot(W_GPi, S) * k_x + I) / tau_GPi;  \n",
      "                                S = u**2 / (1 + 1/2 * k_x * np.sum(u**2)); \n",
      "                                I = V_D1  +  np.dot(W_STN_GPi, U_STN); U_STN ; V_D1   \"\"\")"
     ],
     "language": "python",
     "metadata": {},
     "outputs": [],
     "prompt_number": 29
    },
    {
     "cell_type": "markdown",
     "metadata": {},
     "source": [
      "### Connectivity"
     ]
    },
    {
     "cell_type": "code",
     "collapsed": false,
     "input": [
      "DenseConnection( Striatum_D2('V'), GPe('V_D2'), 1.0 )\n",
      "DenseConnection( STN('U'), GPe('I_STN'), 1.0 )\n",
      "DenseConnection( GPe('U'), STN('I_GPe'), 1.0 )\n",
      "DenseConnection( Striatum_D1('V'), GPi('V_D1'), 1.0 )\n",
      "DenseConnection( STN('U'), GPi('U_STN'), 1.0 )\n"
     ],
     "language": "python",
     "metadata": {},
     "outputs": [
      {
       "metadata": {},
       "output_type": "pyout",
       "prompt_number": 30,
       "text": [
        "<dana.dense_connection.DenseConnection at 0x106ce6d90>"
       ]
      }
     ],
     "prompt_number": 30
    },
    {
     "cell_type": "markdown",
     "metadata": {},
     "source": [
      "###Stimulus"
     ]
    },
    {
     "cell_type": "code",
     "collapsed": false,
     "input": [
      "@clock.at(1*millisecond)\n",
      "def stimulus(time):\n",
      "    sigma = 0.4 #sigmaE{0.3,0.5}\n",
      "    d = np.linspace(0,n-1,n).reshape((n,1))\n",
      "    I = np.zeros((n,1))\n",
      "    I[3:7] = 8\n",
      "    I[12:16] = 2\n",
      "    #plt.plot(I)\n",
      "    Striatum_D1['I_ext'] = I\n",
      "    Striatum_D2['I_ext'] = I\n"
     ],
     "language": "python",
     "metadata": {},
     "outputs": [],
     "prompt_number": 31
    },
    {
     "cell_type": "markdown",
     "metadata": {},
     "source": [
      "### Run simulation"
     ]
    },
    {
     "cell_type": "code",
     "collapsed": false,
     "input": [
      "run(time=duration, dt=dt)\n"
     ],
     "language": "python",
     "metadata": {},
     "outputs": [],
     "prompt_number": 32
    },
    {
     "cell_type": "markdown",
     "metadata": {},
     "source": [
      "###Choice"
     ]
    },
    {
     "cell_type": "code",
     "collapsed": false,
     "input": [
      "choice = 1 if np.sum(GPi(\"S\")[0:10]) > np.sum(GPi(\"S\")[10:20]) else 2\n",
      "print choice"
     ],
     "language": "python",
     "metadata": {},
     "outputs": [
      {
       "output_type": "stream",
       "stream": "stdout",
       "text": [
        "1\n"
       ]
      }
     ],
     "prompt_number": 33
    },
    {
     "cell_type": "markdown",
     "metadata": {},
     "source": [
      "###Plot of output of GPi"
     ]
    },
    {
     "cell_type": "code",
     "collapsed": false,
     "input": [
      "plt.plot(GPi(\"S\"))\n",
      "plt.show()"
     ],
     "language": "python",
     "metadata": {},
     "outputs": [
      {
       "metadata": {},
       "output_type": "display_data",
       "png": "[encoded data removed]",
       "text": [
        "<matplotlib.figure.Figure at 0x10775cf50>"
       ]
      }
     ],
     "prompt_number": 34
    },
    {
     "cell_type": "code",
     "collapsed": false,
     "input": [],
     "language": "python",
     "metadata": {},
     "outputs": []
    }
   ],
   "metadata": {}
  }
 ]
}