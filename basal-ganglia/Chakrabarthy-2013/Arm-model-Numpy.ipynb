{
 "metadata": {
  "name": ""
 },
 "nbformat": 3,
 "nbformat_minor": 0,
 "worksheets": [
  {
   "cells": [
    {
     "cell_type": "markdown",
     "metadata": {},
     "source": [
      "Distributed under the (new) BSD License.\n",
      "Copyright (c) 2014, Nicolas P. Rougier\n",
      "\n",
      "Contributors: Nicolas P. Rougier (Nicolas.Rougier@inria.fr),\n",
      "              Meropi Topalidou (Meropi.Topalidou@inria.fr)"
     ]
    },
    {
     "cell_type": "markdown",
     "metadata": {},
     "source": [
      "### Packages import"
     ]
    },
    {
     "cell_type": "code",
     "collapsed": false,
     "input": [
      "from dana import *\n",
      "%matplotlib inline\n",
      "import matplotlib.pyplot as plt\n"
     ],
     "language": "python",
     "metadata": {},
     "outputs": [],
     "prompt_number": 1
    },
    {
     "cell_type": "markdown",
     "metadata": {},
     "source": [
      "### Simulation parameters"
     ]
    },
    {
     "cell_type": "code",
     "collapsed": false,
     "input": [
      "# Population size\n",
      "n = 4\n",
      "\n",
      "# Number of muscles\n",
      "nm = 4\n",
      "\n",
      "# Simulation duration\n",
      "epochs = 20\n",
      "\n",
      "# Default trial duration\n",
      "duration = 100.0\n",
      "\n",
      "# Initialization of the random generator (reproductibility !)\n",
      "np.random.seed(1)\n"
     ],
     "language": "python",
     "metadata": {},
     "outputs": [],
     "prompt_number": 2
    },
    {
     "cell_type": "markdown",
     "metadata": {},
     "source": [
      "### Parameters Initialization"
     ]
    },
    {
     "cell_type": "code",
     "collapsed": false,
     "input": [
      "#Learning rate of MC\n",
      "n_MC = 0.2\n",
      "\n",
      "#Amplitude of the reward and value functions\n",
      "A = 2\n",
      "\n",
      "#standar deviation of reward\n",
      "sigma = 0.03\n",
      "\n",
      "#Spread of the value function\n",
      "R = 3\n",
      "\n",
      "#Radius of the tolerance circle\n",
      "R_total = 0.3\n",
      "\n",
      "#Map parameter\n",
      "K = 4 \n",
      "\n",
      "#Reward Parmeter\n",
      "Rsmall = 0.003 #small positive quantity to determine the reward\n",
      "\n",
      "#\u03b1 and \u03b2 are coefficients that control the relative contributions of MC and BG to movement,\n",
      "alpha = 0.1\n",
      "beta = 1 - alpha\n",
      "\n",
      "#Discount factor\n",
      "gamma = 1\n",
      "\n",
      "#Scaling factor for logistic map function\n",
      "B = 0.04\n",
      "\n",
      "DA_hi = alpha * beta\n",
      "DA_lo = -alpha * beta"
     ],
     "language": "python",
     "metadata": {},
     "outputs": [],
     "prompt_number": 3
    },
    {
     "cell_type": "markdown",
     "metadata": {},
     "source": [
      "### Targets' position"
     ]
    },
    {
     "cell_type": "code",
     "collapsed": false,
     "input": [
      "def tar_pos(target):\n",
      "    \n",
      "    Target = np.zeros((n,1))\n",
      "    Target[target] = 1\n",
      "    \n",
      "    if target == 0:\n",
      "        pos = np.array([-1., 1.5]).reshape(1,2)\n",
      "    elif target == 1:\n",
      "        pos = np.array([-0.5, 1.]).reshape(1,2)\n",
      "    elif target == 2:\n",
      "        pos = np.array([-1., 0.5]).reshape(1,2)\n",
      "    elif target == 3:\n",
      "        pos = np.array([-1.5, 1.]).reshape(1,2)\n",
      "    elif target == 4:\n",
      "        pos = np.array([-0.25, 1.]).reshape(1,2)\n",
      "    else:\n",
      "        pos = np.array([-1., 0.25]).reshape(1,2)\n",
      "        \n",
      "    theta1, theta2 = inverse(pos)\n",
      "    musc = muscles(theta1, theta2)\n",
      "    return pos,musc, Target\n"
     ],
     "language": "python",
     "metadata": {},
     "outputs": [],
     "prompt_number": 4
    },
    {
     "cell_type": "markdown",
     "metadata": {},
     "source": [
      "### Weights' initialization"
     ]
    },
    {
     "cell_type": "code",
     "collapsed": false,
     "input": [
      "def initial_weights():\n",
      "    Wmin, Wmax = -0.5, 0.5    \n",
      "    W = limits(np.random.normal(0.0,0.5,(nm,n)))\n",
      "    return W\n",
      "\n",
      "def initial_b():\n",
      "    bmin, bmax = -0.2, 0.2    \n",
      "    b = limits(np.random.normal(0.0,0.3,(nm,1)))\n",
      "    return b\n"
     ],
     "language": "python",
     "metadata": {},
     "outputs": [],
     "prompt_number": 5
    },
    {
     "cell_type": "markdown",
     "metadata": {},
     "source": [
      "### Helpful Functions"
     ]
    },
    {
     "cell_type": "code",
     "collapsed": false,
     "input": [
      "#Given the angles of the joints returns position\n",
      "def coordinations(theta1, theta2, l1 = 1., l2 = 1., pos0 = np.array([0.0, 0.0]).reshape(1,2)):\n",
      "    x1 = np.cos(theta1) * l1 + pos0[0][0]\n",
      "    y1 = np.sin(theta1) * l1 + pos0[0][1]\n",
      "    x2 = np.cos(theta1 + theta2) * l2 + x1\n",
      "    y2 = np.sin(theta1 + theta2) * l2 + y1\n",
      "  \n",
      "    return np.array([x2, y2]).reshape(1,2)\n",
      "\n",
      "#Given the angles of the joints returns muscles activation pattern of the arm\n",
      "def muscles(theta1, theta2):\n",
      "    g1, g3 = 0., 0.\n",
      "    g2 = g1 - theta1/np.pi\n",
      "    g4 = g3 - theta2/np.pi\n",
      "    \n",
      "    #g1 = theta1/np.pi/2.\n",
      "    #g3 = theta2/np.pi/2.\n",
      "    #g2, g4 = -g1, -g3\n",
      "    \n",
      "    g = np.array([g1, g2, g3, g4]).reshape((nm,1))\n",
      "    return g\n",
      "\n",
      "#Given position return the angles of the joints\n",
      "def inverse(pos, l1 = 1., l2 = 1., pos0 = np.array([0.0, 0.0]).reshape(1,2)):\n",
      "    pos[0][0] = np.array(pos[0][0]) - pos0[0][0]\n",
      "    pos[0][1] = np.array(pos[0][1]) - pos0[0][1]\n",
      "\n",
      "    # Elbow joint\n",
      "    c2 = (pos[0][0]*pos[0][0] + pos[0][1]*pos[0][1] - l1*l1 - l2*l2)/(2*l1*l2)\n",
      "    s2 = np.sqrt(1. - c2*c2)\n",
      "    theta2 = np.arctan2(s2, c2)\n",
      "\n",
      "    # Shoulder joint\n",
      "    k1 = l1 + l2*c2\n",
      "    k2 = l2*s2\n",
      "    theta1 = np.arctan2(pos[0][1], pos[0][0]) - np.arctan2(k2, k1)\n",
      "    \n",
      "    return theta1, theta2\n",
      "\n",
      "#Limites the vector to the proper min and max\n",
      "def limits(W, Wmin = -0.5, Wmax = 0.5):\n",
      "    \n",
      "    N = np.random.normal(0.0, 0.005, W.shape)\n",
      "    N = np.minimum(np.maximum(N, 0.0),1.0)\n",
      "    W = W*(Wmin + (Wmax - Wmin)*N)\n",
      "    \n",
      "    return W\n",
      "\n",
      "\n",
      "def norm(Z): \n",
      "    return np.sqrt( (Z*Z).sum())\n",
      "\n",
      "def normalize(Z,num): \n",
      "    return Z * num / norm(Z)\n",
      "\n",
      "def gaussian():\n",
      "    x = np.linspace(-0.4,0.4,1000)\n",
      "    y = A * np.exp((-x**2)/(2*(sigma**2)))\n",
      "    return np.random.choice(y)"
     ],
     "language": "python",
     "metadata": {},
     "outputs": [],
     "prompt_number": 6
    },
    {
     "cell_type": "markdown",
     "metadata": {},
     "source": [
      "###Finding Weights"
     ]
    },
    {
     "cell_type": "code",
     "collapsed": false,
     "input": [
      "W = initial_weights()\n",
      "b = initial_b()\n",
      "#used to give the 4 targets randomly in every epoch\n",
      "t = range(0,n)\n",
      "#learning rate\n",
      "h_MC = 0.2\n",
      "epochs  = 20\n",
      "D = np.zeros(epochs*n)\n",
      "for k in range(epochs):\n",
      "    np.random.shuffle(t)\n",
      "    # one loop for one target\n",
      "    for j in range(n): \n",
      "        #Target to be reached\n",
      "        pos_tar,musc_tar,Target = tar_pos(t[j])\n",
      "        \n",
      "        #output of Motor\n",
      "        Motor = np.tanh(np.dot(W,Target) + b)\n",
      "        \n",
      "        #Update of the weights\n",
      "        W = W + np.dot((musc_tar - Motor), Target.T) * h_MC\n",
      "        \n",
      "        b = b + (musc_tar - Motor) * h_MC\n",
      "        \n",
      "        \n",
      "        Motor = np.tanh(np.dot(W, Target)+b)\n",
      "        \n",
      "        # There is no BG so the arm takes input only from the Motor Cortex(beta=0 => alpha=1)\n",
      "        Arm = Motor \n",
      "        \n",
      "        # from the arm we find the angles and the position of the arm\n",
      "        theta1 = np.pi * (Arm[0] - Arm[1])\n",
      "        theta2 = np.pi * (Arm[2] - Arm[3])\n",
      "        \n",
      "        cur_pos = coordinations(theta1, theta2)\n",
      "        d =  np.linalg.norm(cur_pos[0] - pos_tar[0])\n",
      "        D[k * n + j] = d\n",
      "        #print \"target = \", pos_tar\n",
      "        #print \"current = \", cur_pos\n",
      "        #print \"d = \", d, \"\\n\"\n",
      "plt.plot(D)"
     ],
     "language": "python",
     "metadata": {},
     "outputs": [
      {
       "metadata": {},
       "output_type": "pyout",
       "prompt_number": 7,
       "text": [
        "[<matplotlib.lines.Line2D at 0x106a27190>]"
       ]
      },
      {
       "metadata": {},
       "output_type": "display_data",
       "png": "[encoded data removed]",
       "text": [
        "<matplotlib.figure.Figure at 0x1069f8ad0>"
       ]
      }
     ],
     "prompt_number": 7
    },
    {
     "cell_type": "markdown",
     "metadata": {},
     "source": [
      "### Simulation"
     ]
    },
    {
     "cell_type": "code",
     "collapsed": false,
     "input": [
      "W = initial_weights()\n",
      "b = initial_b()\n",
      "\n",
      "#acceptable distance from the target to consider as reach\n",
      "Accept_d = 0.2\n",
      "\n",
      "#max distance for reward\n",
      "Rsmall = 0.3\n",
      "\n",
      "#used to give the n targets randomly in every epoch\n",
      "t = range(0,n)\n",
      "\n",
      "alpha = 0.1\n",
      "beta = 1 - alpha\n",
      "\n",
      "#initial position of the arm\n",
      "pos_f = np.array([-1.,1.]).reshape(1,2)\n",
      "th1_f, th2_f = inverse(pos_f)\n",
      "Arm_f = muscles(th1_f, th2_f)\n",
      "\n",
      "#epochs\n",
      "epochs = 30\n",
      "\n",
      "#vector of distances\n",
      "D = np.zeros(epochs*n)\n",
      "\n",
      "#DA_hi = alpha * beta\n",
      "#DA_lo = -alpha * beta\n",
      "\n",
      "#Vector of Average Errors\n",
      "AverE = []\n",
      "\n",
      "for k in range(epochs):\n",
      "    np.random.shuffle(t)\n",
      "    \n",
      "    # n loops for the n targets\n",
      "    \n",
      "    for j in range(n): \n",
      "        \n",
      "        #Target to be reached\n",
      "        pos,musc, Target = tar_pos(t[j])\n",
      "        \n",
      "        #Arm in the initial position\n",
      "        theta1, theta2 = th1_f, th2_f\n",
      "        Arm = Arm_f\n",
      "        cur_pos = pos_f.reshape(1,2)\n",
      "        \n",
      "        #BG's values initialization\n",
      "        BG = limits(np.random.normal(0,0.05,(nm,1)),-0.05,0.05)\n",
      "        x = limits(np.random.normal(0.1, 0.05,(nm,1)),0.05,0.15)\n",
      "        D_BG = limits(np.random.normal(0.1, 0.05,(nm,1)),-0.1,0.1)\n",
      "        V_old = 0.0\n",
      "        \n",
      "        pos_tar,musc_tar,Target = tar_pos(t[j])\n",
      "    \n",
      "        #Motor Output so Arms too\n",
      "        Motor = np.tanh(np.dot(W, Target)+b)\n",
      "        #Arm = Motor \n",
      "    \n",
      "        # from the arm we find the angles and the position of the arm\n",
      "        #t1 = np.pi * (Motor[0] - Motor[1])\n",
      "        #t2 = np.pi * (Motor[2] - Motor[3])\n",
      "        #cur_p = coordinations(t1, t2)\n",
      "        #dd =  np.linalg.norm(cur_p[0] - pos_tar[0])\n",
      "        #print pos_tar, \"\\n\",cur_p\n",
      "        #print dd, \"\\n\"\n",
      "        #distance between current and target's position\n",
      "        d =  np.linalg.norm(cur_pos[0] - pos_tar[0])\n",
      "        #print d\n",
      "        m = 0\n",
      "        while (d>Accept_d or np.isnan(d)) and m < 1000 :\n",
      "            #print \"m = \", m\n",
      "            m = m + 1\n",
      "            # Compute BG\n",
      "            #------------------------------------------------\n",
      "            V = (A *(1 - d**2/R**2)) if (d < R) else (0);\n",
      "        \n",
      "            r = A if d < Rsmall else 0\n",
      "            delta = r + gamma*V - V_old\n",
      "            \n",
      "            V_old = V\n",
      "            \n",
      "            if delta > DA_hi:\n",
      "                D_BG = D_BG  \n",
      "                \n",
      "            elif ((delta > DA_lo) and (delta <= DA_hi)):\n",
      "                x = K * x * (1 - x);\n",
      "                phi = B * x;\n",
      "                D_BG = normalize(phi,0.2)\n",
      "                    \n",
      "            elif delta <= DA_lo: \n",
      "                D_BG = -D_BG\n",
      "            \n",
      "            BG = BG + D_BG \n",
      "            \n",
      "            # Compute Arm\n",
      "            Arm = alpha * Motor + beta * BG\n",
      "            \n",
      "            # from the arm we find the angles of the joints and the position of the arm\n",
      "            theta1 = np.pi * (Arm[0] - Arm[1])\n",
      "            theta2 = np.pi * (Arm[2] - Arm[3])\n",
      "\n",
      "            cur_pos = coordinations(theta1, theta2)\n",
      "            \n",
      "            #distance between current and target's position\n",
      "            d = norm(cur_pos[0] - pos_tar[0])\n",
      "        if k == epochs - 1:\n",
      "            print m\n",
      "            \n",
      "        #print pos_tar, \"\\n\",cur_pos\n",
      "        #print d, not np.isnan(d),  \"\\n\", \"\\n\"\n",
      "        if np.isnan(d):\n",
      "            d = 2.5\n",
      "        D[k * n + j] = d\n",
      "        \n",
      "        if d < Accept_d:\n",
      "            \n",
      "            W = W + np.dot((musc_tar - Motor), Target.T) * n_MC\n",
      "            b = b + (musc_tar - Motor) * n_MC\n",
      "            \n",
      "            \n",
      "            E = np.zeros(n)\n",
      "            for l in range(n):\n",
      "                \n",
      "                pos_tar,musc_tar, Target = tar_pos(l)\n",
      "                \n",
      "                Motor = np.tanh(np.dot(W,Target) + b)\n",
      "                \n",
      "                #.reshape((n*npos,1))\n",
      "               \n",
      "                # from the arm we find the angles and the position of the arm\n",
      "                theta1 = np.pi * (Motor[0] - Motor[1])\n",
      "                theta2 = np.pi * (Motor[2] - Motor[3])\n",
      "                \n",
      "                cur_pos = coordinations(theta1, theta2)\n",
      "                dd =  np.linalg.norm(cur_pos[0] - pos_tar[0])\n",
      "                E[l] = dd\n",
      "            \n",
      "            \n",
      "            AverE.append(np.average(E))\n",
      "            #update alpha and beta\n",
      "            alpha = np.exp(-(np.average(E)))\n",
      "            beta = 1 - alpha\n",
      "            \n",
      "        else:\n",
      "            #if len(AverE):\n",
      "            #    AverE.append(np.average(AverE[-1]))\n",
      "            #else:\n",
      "            AverE.append(2.5)\n",
      "    \n",
      "\n",
      "        \n",
      "#print AverE\n",
      "#print np.sum(D<0.2), \"\\n\"\n",
      "#print np.average(E)\n",
      "#print np.average(D)\n",
      "fig = plt.figure(figsize = (10,5))\n",
      "ax1 = plt.subplot2grid((2,1),(0,0))\n",
      "ax2 = plt.subplot2grid((2,1),(1,0))\n",
      "ax1.plot(D,\"o\")\n",
      "ax2.plot(np.array(AverE),\"r*\")"
     ],
     "language": "python",
     "metadata": {},
     "outputs": [
      {
       "output_type": "stream",
       "stream": "stdout",
       "text": [
        "1\n",
        "1\n",
        "1\n",
        "1\n"
       ]
      },
      {
       "output_type": "stream",
       "stream": "stderr",
       "text": [
        "-c:51: RuntimeWarning: overflow encountered in multiply\n",
        "-c:87: RuntimeWarning: overflow encountered in multiply\n",
        "-c:54: RuntimeWarning: invalid value encountered in divide\n"
       ]
      },
      {
       "metadata": {},
       "output_type": "pyout",
       "prompt_number": 8,
       "text": [
        "[<matplotlib.lines.Line2D at 0x106e04ad0>]"
       ]
      },
      {
       "metadata": {},
       "output_type": "display_data",
       "png": "[encoded data removed]",
       "text": [
        "<matplotlib.figure.Figure at 0x106a67d90>"
       ]
      }
     ],
     "prompt_number": 8
    },
    {
     "cell_type": "markdown",
     "metadata": {},
     "source": [
      "### Check if Motor Cortex learned to reach targets"
     ]
    },
    {
     "cell_type": "code",
     "collapsed": false,
     "input": [
      "Accept_d = 0.2\n",
      "#used to give the 4 targets randomly in every epoch\n",
      "\n",
      "#initial position of the arm\n",
      "pos_f = np.array([-1.,1.]).reshape(1,2)\n",
      "th1_f, th2_f = inverse(pos_f)\n",
      "Arm_f = muscles(th1_f, th2_f)\n",
      "\n",
      "D = np.zeros(n)\n",
      "h = 0\n",
      "\n",
      "for j in range(n): \n",
      "        \n",
      "        #Target to be reached\n",
      "        pos_tar,musc_tar,Target = tar_pos(j)\n",
      "        \n",
      "        #Arm in the initial position\n",
      "        theta1, theta2 = th1_f, th2_f\n",
      "        Arm = Arm_f\n",
      "        cur_pos = pos_f.reshape(1,2)\n",
      "        \n",
      "        #BG's values initialization\n",
      "        BG = limits(np.random.normal(0,0.05,(nm,1)),-0.05,0.05)\n",
      "        x = limits(np.random.normal(0.1, 0.05,(nm,1)),0.05,0.15)\n",
      "        D_BG = limits(np.random.normal(0.1, 0.05,(nm,1)),-0.1,0.1)\n",
      "        V_old = 0.0\n",
      "        \n",
      "        #output of Motor\n",
      "        Motor = np.tanh(np.dot(W,Target) + b)\n",
      "        \n",
      "        #distance between current and target's position\n",
      "        d = norm(cur_pos[0] - pos_tar[0])\n",
      "        \n",
      "        m = 0\n",
      "        while (d > Accept_d or np.isnan(d)) and m < 100:\n",
      "            \n",
      "            m = m + 1\n",
      "            # Compute BG\n",
      "            #------------------------------------------------\n",
      "            V = (A *(1 - d**2/R**2)) if (d < R) else (0);\n",
      "        \n",
      "            r = A if d < Rsmall else 0\n",
      "            delta = r + gamma*V - V_old\n",
      "            #print r, delta\n",
      "            V_old = V\n",
      "            \n",
      "            if delta > DA_hi:\n",
      "                D_BG = D_BG  \n",
      "                \n",
      "            elif ((delta > DA_lo) and (delta <= DA_hi)):\n",
      "                x = K * x * (1 - x);\n",
      "                phi = B * x;\n",
      "                D_BG = normalize(phi,0.2)\n",
      "                    \n",
      "            elif delta <= DA_lo: \n",
      "                D_BG = -D_BG\n",
      "            \n",
      "            BG = BG + D_BG \n",
      "            \n",
      "            # Compute Arm\n",
      "            \n",
      "            Arm = alpha * Motor + beta * BG\n",
      "        \n",
      "            # from the arm we find the angles of the joints and the position of the arm\n",
      "            theta1 = np.pi * (Arm[0] - Arm[1])\n",
      "            theta2 = np.pi * (Arm[2] - Arm[3])\n",
      "\n",
      "            cur_pos = coordinations(theta1, theta2)\n",
      "            \n",
      "            #distance between current and target's position\n",
      "            d = norm(cur_pos[0] - pos_tar[0])\n",
      "        D[j] = d\n",
      "        \n",
      "        \n",
      "        if m<100 and not np.isnan(d):\n",
      "            h = h+1\n",
      "            \n",
      "print alpha, \"\\n\"\n",
      "print D\n",
      "plt.plot(D)"
     ],
     "language": "python",
     "metadata": {},
     "outputs": [
      {
       "output_type": "stream",
       "stream": "stdout",
       "text": [
        "0.992355349489 \n",
        "\n",
        "[ 0.02319149  0.03043943  0.03187349  0.02647716]\n"
       ]
      },
      {
       "metadata": {},
       "output_type": "pyout",
       "prompt_number": 9,
       "text": [
        "[<matplotlib.lines.Line2D at 0x106f51350>]"
       ]
      },
      {
       "metadata": {},
       "output_type": "display_data",
       "png": "[encoded data removed]",
       "text": [
        "<matplotlib.figure.Figure at 0x106a677d0>"
       ]
      }
     ],
     "prompt_number": 9
    },
    {
     "cell_type": "code",
     "collapsed": false,
     "input": [
      "a = np.zeros((4,1))\n",
      "b = np.ones((1,4))\n",
      "a[1]=1\n",
      "a[2]=2\n",
      "a[3]=3\n",
      "b[0,1]=2\n",
      "b[0,2]=3\n",
      "b[0,3]=4\n",
      "a,b"
     ],
     "language": "python",
     "metadata": {},
     "outputs": [
      {
       "metadata": {},
       "output_type": "pyout",
       "prompt_number": 10,
       "text": [
        "(array([[ 0.],\n",
        "       [ 1.],\n",
        "       [ 2.],\n",
        "       [ 3.]]),\n",
        " array([[ 1.,  2.,  3.,  4.]]))"
       ]
      }
     ],
     "prompt_number": 10
    },
    {
     "cell_type": "code",
     "collapsed": false,
     "input": [
      "c = np.dot(a,b)\n",
      "c"
     ],
     "language": "python",
     "metadata": {},
     "outputs": [
      {
       "metadata": {},
       "output_type": "pyout",
       "prompt_number": 232,
       "text": [
        "array([[  0.,   0.,   0.,   0.],\n",
        "       [  1.,   2.,   3.,   4.],\n",
        "       [  2.,   4.,   6.,   8.],\n",
        "       [  3.,   6.,   9.,  12.]])"
       ]
      }
     ],
     "prompt_number": 232
    },
    {
     "cell_type": "code",
     "collapsed": false,
     "input": [
      "a = np.zeros((4,1))\n",
      "a[1] = np.nan\n",
      "if np.isnan(a).all():\n",
      "    print \"...\""
     ],
     "language": "python",
     "metadata": {},
     "outputs": [],
     "prompt_number": 120
    },
    {
     "cell_type": "code",
     "collapsed": false,
     "input": [],
     "language": "python",
     "metadata": {},
     "outputs": [],
     "prompt_number": 119
    },
    {
     "cell_type": "code",
     "collapsed": false,
     "input": [],
     "language": "python",
     "metadata": {},
     "outputs": []
    }
   ],
   "metadata": {}
  }
 ]
}