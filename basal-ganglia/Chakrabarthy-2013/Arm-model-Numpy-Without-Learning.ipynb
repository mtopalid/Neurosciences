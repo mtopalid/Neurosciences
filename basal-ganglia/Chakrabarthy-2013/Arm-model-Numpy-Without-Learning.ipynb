{
 "metadata": {
  "name": ""
 },
 "nbformat": 3,
 "nbformat_minor": 0,
 "worksheets": [
  {
   "cells": [
    {
     "cell_type": "markdown",
     "metadata": {},
     "source": [
      "Distributed under the (new) BSD License.\n",
      "Copyright (c) 2014, Nicolas P. Rougier\n",
      "\n",
      "Contributors: Nicolas P. Rougier (Nicolas.Rougier@inria.fr),\n",
      "              Meropi Topalidou (Meropi.Topalidou@inria.fr)"
     ]
    },
    {
     "cell_type": "markdown",
     "metadata": {},
     "source": [
      "### Packages import"
     ]
    },
    {
     "cell_type": "code",
     "collapsed": false,
     "input": [
      "from dana import *\n",
      "%matplotlib inline\n",
      "import matplotlib.pyplot as plt\n"
     ],
     "language": "python",
     "metadata": {},
     "outputs": [],
     "prompt_number": 2
    },
    {
     "cell_type": "markdown",
     "metadata": {},
     "source": [
      "### Simulation parameters"
     ]
    },
    {
     "cell_type": "code",
     "collapsed": false,
     "input": [
      "# Population size\n",
      "n = 4\n",
      "\n",
      "# Simulation duration\n",
      "epochs = 20\n",
      "\n",
      "# Default trial duration\n",
      "duration = 100.0\n",
      "\n",
      "# Initialization of the random generator (reproductibility !)\n",
      "np.random.seed(1)\n"
     ],
     "language": "python",
     "metadata": {},
     "outputs": [],
     "prompt_number": 3
    },
    {
     "cell_type": "markdown",
     "metadata": {},
     "source": [
      "### Parameters Initialization"
     ]
    },
    {
     "cell_type": "code",
     "collapsed": false,
     "input": [
      "#Learning rate of MC\n",
      "n_MC = 0.2\n",
      "\n",
      "#Amplitude of the reward and value functions\n",
      "A = 2\n",
      "\n",
      "#standar deviation of reward\n",
      "sigma = 0.03\n",
      "\n",
      "#Spread of the value function\n",
      "R = 3\n",
      "\n",
      "#Radius of the tolerance circle\n",
      "R_total = 0.3\n",
      "\n",
      "#Map parameter\n",
      "K = 4 \n",
      "\n",
      "#Reward Parmeter\n",
      "Rsmall = 0.003 #small positive quantity to determine the reward\n",
      "\n",
      "#\u03b1 and \u03b2 are coefficients that control the relative contributions of MC and BG to movement,\n",
      "alpha = 0.1\n",
      "beta = 1 - alpha\n",
      "\n",
      "#Discount factor\n",
      "gamma = 1\n",
      "\n",
      "#Scaling factor for logistic map function\n",
      "B = 0.04\n",
      "\n",
      "DA_hi = alpha * beta\n",
      "DA_lo = -alpha * beta"
     ],
     "language": "python",
     "metadata": {},
     "outputs": [],
     "prompt_number": 4
    },
    {
     "cell_type": "markdown",
     "metadata": {},
     "source": [
      "### Targets' position"
     ]
    },
    {
     "cell_type": "code",
     "collapsed": false,
     "input": [
      "def tar_pos(Target):\n",
      "    whichTar = np.where(Target !=0)[0][0]\n",
      "    \n",
      "    if whichTar == 0:\n",
      "        pos = np.array([-1., 1.5]).reshape(1,2)\n",
      "    elif whichTar == 1:\n",
      "        pos = np.array([-0.5, 1.]).reshape(1,2)\n",
      "    elif whichTar == 2:\n",
      "        pos = np.array([-1., 0.5]).reshape(1,2)\n",
      "    else:\n",
      "        pos = np.array([-1.5, 1.]).reshape(1,2)\n",
      "        \n",
      "    theta1, theta2 = inverse(pos)\n",
      "    musc = muscles(theta1, theta2)\n",
      "    return pos,musc"
     ],
     "language": "python",
     "metadata": {},
     "outputs": [],
     "prompt_number": 5
    },
    {
     "cell_type": "markdown",
     "metadata": {},
     "source": [
      "### Weights' initialization"
     ]
    },
    {
     "cell_type": "code",
     "collapsed": false,
     "input": [
      "def initial_weights():\n",
      "    Wmin, Wmax = -0.5, 0.5    \n",
      "    W = limits(np.random.normal(0.0,0.5,(n,n)))\n",
      "    return W\n",
      "\n",
      "def initial_b():\n",
      "    bmin, bmax = -0.2, 0.2    \n",
      "    b = limits(np.random.normal(0.0,0.3,(n,1)))\n",
      "    return b\n"
     ],
     "language": "python",
     "metadata": {},
     "outputs": [],
     "prompt_number": 6
    },
    {
     "cell_type": "markdown",
     "metadata": {},
     "source": [
      "### Helpful Functions"
     ]
    },
    {
     "cell_type": "code",
     "collapsed": false,
     "input": [
      "#Given the angles of the joints returns position\n",
      "def coordinations(theta1, theta2, l1 = 1., l2 = 1., pos0 = np.array([0.0, 0.0]).reshape(1,2)):\n",
      "    x1 = np.cos(theta1) * l1 + pos0[0][0]\n",
      "    y1 = np.sin(theta1) * l1 + pos0[0][1]\n",
      "    x2 = np.cos(theta1 + theta2) * l2 + x1\n",
      "    y2 = np.sin(theta1 + theta2) * l2 + y1\n",
      "  \n",
      "    return np.array([x2, y2]).reshape(1,2)\n",
      "\n",
      "#Given the angles of the joints returns muscles activation pattern of the arm\n",
      "def muscles(theta1, theta2):\n",
      "    g1, g3 = 0., 0.\n",
      "    g2 = g1 - theta1/np.pi\n",
      "    g4 = g3 - theta2/np.pi\n",
      "    \n",
      "    #g1 = theta1/np.pi/2.\n",
      "    #g3 = theta2/np.pi/2.\n",
      "    #g2, g4 = -g1, -g3\n",
      "    \n",
      "    g = np.array([g1, g2, g3, g4]).reshape((n,1))\n",
      "    return g\n",
      "\n",
      "#Given position return the angles of the joints\n",
      "def inverse(pos, l1 = 1., l2 = 1., pos0 = np.array([0.0, 0.0]).reshape(1,2)):\n",
      "    pos[0][0] = np.array(pos[0][0]) - pos0[0][0]\n",
      "    pos[0][1] = np.array(pos[0][1]) - pos0[0][1]\n",
      "\n",
      "    # Elbow joint\n",
      "    c2 = (pos[0][0]*pos[0][0] + pos[0][1]*pos[0][1] - l1*l1 - l2*l2)/(2*l1*l2)\n",
      "    s2 = np.sqrt(1. - c2*c2)\n",
      "    theta2 = np.arctan2(s2, c2)\n",
      "\n",
      "    # Shoulder joint\n",
      "    k1 = l1 + l2*c2\n",
      "    k2 = l2*s2\n",
      "    theta1 = np.arctan2(pos[0][1], pos[0][0]) - np.arctan2(k2, k1)\n",
      "    \n",
      "    return theta1, theta2\n",
      "\n",
      "#Limites the vector to the proper min and max\n",
      "def limits(W, Wmin = -0.5, Wmax = 0.5):\n",
      "    \n",
      "    N = np.random.normal(0.0, 0.005, W.shape)\n",
      "    N = np.minimum(np.maximum(N, 0.0),1.0)\n",
      "    W = W*(Wmin + (Wmax - Wmin)*N)\n",
      "    \n",
      "    return W\n",
      "\n",
      "\n",
      "def norm(Z): \n",
      "    return np.sqrt( (Z*Z).sum())\n",
      "\n",
      "def normalize(Z,num): \n",
      "    return Z * num / norm(Z)\n",
      "\n",
      "def gaussian():\n",
      "    x = np.linspace(-0.4,0.4,1000)\n",
      "    y = A * np.exp((-x**2)/(2*(sigma**2)))\n",
      "    return np.random.choice(y)"
     ],
     "language": "python",
     "metadata": {},
     "outputs": [],
     "prompt_number": 7
    },
    {
     "cell_type": "markdown",
     "metadata": {},
     "source": [
      "### Simulation"
     ]
    },
    {
     "cell_type": "code",
     "collapsed": false,
     "input": [
      "W = initial_weights()\n",
      "b = initial_b()\n",
      "\n",
      "#acceptable distance from the target to consider as reach\n",
      "Accept_d = 0.2\n",
      "\n",
      "#max distance for reward\n",
      "Rsmall = 0.3\n",
      "\n",
      "#used to give the 4 targets randomly in every epoch\n",
      "t = np.array([0,1,2,3])\n",
      "\n",
      "alpha = 0.1\n",
      "beta = 1 - alpha\n",
      "\n",
      "#initial position of the arm\n",
      "pos_f = np.array([-1.,1.]).reshape(1,2)\n",
      "th1_f, th2_f = inverse(pos_f)\n",
      "Arm_f = muscles(th1_f, th2_f)\n",
      "\n",
      "#epochs\n",
      "epochs = 60\n",
      "\n",
      "#vector of distances\n",
      "D = np.zeros(epochs*n)\n",
      "\n",
      "#calculate how many times it wasn't needed all the 100 steps to reach the target\n",
      "h = 0\n",
      "\n",
      "for k in range(epochs):\n",
      "    np.random.shuffle(t)\n",
      "    \n",
      "    # 4 loops for the 4 targets\n",
      "    for j in range(n): \n",
      "        \n",
      "        #Target to be reached\n",
      "        Target = np.zeros((n,1))\n",
      "        Target[t[j]] = 1\n",
      "        pos_tar,musc_tar = tar_pos(Target)\n",
      "        \n",
      "        #Arm in the initial position\n",
      "        theta1, theta2 = th1_f, th2_f\n",
      "        Arm = Arm_f\n",
      "        cur_pos = pos_f.reshape(1,2)\n",
      "        \n",
      "        #BG's values initialization\n",
      "        BG = limits(np.random.normal(0,0.05,(n,1)),-0.05,0.05)\n",
      "        x = limits(np.random.normal(0.1, 0.05,(n,1)),0.05,0.15)\n",
      "        D_BG = limits(np.random.normal(0.1, 0.05,(n,1)),-0.1,0.1)\n",
      "        V_old = 0.0\n",
      "        \n",
      "        #output of Motor\n",
      "        Motor = np.tanh(np.dot(W,Target) + b)\n",
      "        \n",
      "        #distance between current and target's position\n",
      "        d = norm(cur_pos[0] - pos_tar[0])\n",
      "        \n",
      "        #check the number of the steps\n",
      "        m = 0\n",
      "        \n",
      "        while d>Accept_d and m < 100:\n",
      "            \n",
      "            m = m + 1\n",
      "            # Compute BG\n",
      "            #------------------------------------------------\n",
      "            V = (A *(1 - d**2/R**2)) if (d < R) else (0);\n",
      "        \n",
      "            r = A if d < 0.3 else 0\n",
      "            delta = r + gamma*V - V_old\n",
      "            #print r, delta\n",
      "            V_old = V\n",
      "            \n",
      "            if delta > DA_hi:\n",
      "                D_BG = D_BG  \n",
      "                \n",
      "            elif ((delta > DA_lo) and (delta <= DA_hi)):\n",
      "                x = K * x * (1 - x);\n",
      "                phi = B * x;\n",
      "                D_BG = normalize(phi,0.2)\n",
      "                    \n",
      "            elif delta <= DA_lo: \n",
      "                D_BG = -D_BG\n",
      "            \n",
      "            BG = BG + D_BG \n",
      "            \n",
      "            # Compute Arm\n",
      "            \n",
      "            Arm = alpha * Motor + beta * BG\n",
      "        \n",
      "            # from the arm we find the angles of the joints and the position of the arm\n",
      "            theta1 = np.pi * (Arm[0] - Arm[1])\n",
      "            theta2 = np.pi * (Arm[2] - Arm[3])\n",
      "\n",
      "            cur_pos = coordinations(theta1, theta2)\n",
      "            \n",
      "            #distance between current and target's position\n",
      "            d = norm(cur_pos[0] - pos_tar[0])\n",
      "        \n",
      "        D[k * n + j] = d\n",
      "                \n",
      "        if m<100 and not np.isnan(d):\n",
      "            h = h+1\n",
      "            \n",
      "print h, \"\\n\"\n",
      "plt.plot(D)"
     ],
     "language": "python",
     "metadata": {},
     "outputs": [
      {
       "output_type": "stream",
       "stream": "stdout",
       "text": [
        "152 \n",
        "\n"
       ]
      },
      {
       "metadata": {},
       "output_type": "pyout",
       "prompt_number": 18,
       "text": [
        "[<matplotlib.lines.Line2D at 0x107a90c90>]"
       ]
      },
      {
       "metadata": {},
       "output_type": "display_data",
       "png": "[encoded data removed]",
       "text": [
        "<matplotlib.figure.Figure at 0x1078d9fd0>"
       ]
      }
     ],
     "prompt_number": 18
    },
    {
     "cell_type": "code",
     "collapsed": false,
     "input": [],
     "language": "python",
     "metadata": {},
     "outputs": []
    }
   ],
   "metadata": {}
  }
 ]
}