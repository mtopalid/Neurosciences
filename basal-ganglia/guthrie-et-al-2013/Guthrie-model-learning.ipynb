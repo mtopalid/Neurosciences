{
 "metadata": {
  "name": ""
 },
 "nbformat": 3,
 "nbformat_minor": 0,
 "worksheets": [
  {
   "cells": [
    {
     "cell_type": "markdown",
     "metadata": {},
     "source": [
      "**A Long Journey into Reproducible Computational Neurosciences Research**  \n",
      "Meropi Topalidou\u00b9\u00b2\u00b3, Thomas Boraud\u00b3 and Nicolas P. Rougier\u00b9\u00b2\u00b3*\n",
      "\n",
      "\u00b9 INRIA Bordeaux Sud-Ouest, France  \n",
      "\u00b2 LaBRI, UMR 5800 CNRS, Talence, France  \n",
      "\u00b3 Institute of Neurodegenerative Diseases, UMR 5293, Bordeaux, France  \n",
      "* Corresponding author ([Nicolas.Rougier@inria.fr](mailto:Nicolas.Rougier@inria.fr))"
     ]
    },
    {
     "cell_type": "markdown",
     "metadata": {},
     "source": [
      "### Packages import"
     ]
    },
    {
     "cell_type": "code",
     "collapsed": false,
     "input": [
      "from dana import *\n",
      "import matplotlib.pyplot as plt\n",
      "%pylab inline\n",
      "import os\n",
      "import time"
     ],
     "language": "python",
     "metadata": {},
     "outputs": [
      {
       "output_type": "stream",
       "stream": "stdout",
       "text": [
        "Populating the interactive namespace from numpy and matplotlib\n"
       ]
      },
      {
       "output_type": "stream",
       "stream": "stderr",
       "text": [
        "WARNING: pylab import has clobbered these variables: ['info', 'empty_like', 'zeros_like', 'ones', 'zeros', 'empty', 'ones_like', 'test', 'extract', 'dot']\n",
        "`%pylab --no-import-all` prevents importing * from pylab and numpy\n"
       ]
      }
     ],
     "prompt_number": 1
    },
    {
     "cell_type": "markdown",
     "metadata": {},
     "source": [
      "### Simulation parameters"
     ]
    },
    {
     "cell_type": "code",
     "collapsed": false,
     "input": [
      "# Population size\n",
      "n = 4\n",
      "\n",
      "# Default trial duration\n",
      "duration = 3.0*second\n",
      "\n",
      "# Default Time resolution\n",
      "dt = 1.0*millisecond\n",
      "\n",
      "# Initialization of the random generator (reproductibility !)\n",
      "np.random.seed(1)"
     ],
     "language": "python",
     "metadata": {},
     "outputs": [],
     "prompt_number": 2
    },
    {
     "cell_type": "code",
     "collapsed": false,
     "input": [
      "# Threshold\n",
      "Cortex_h   =  -3.0\n",
      "Striatum_h =   0.0\n",
      "STN_h      = -10.0\n",
      "GPi_h      =  10.0\n",
      "Thalamus_h = -40.0"
     ],
     "language": "python",
     "metadata": {},
     "outputs": [],
     "prompt_number": 3
    },
    {
     "cell_type": "code",
     "collapsed": false,
     "input": [
      "# Time constants\n",
      "Cortex_tau   = 0.01\n",
      "Striatum_tau = 0.01\n",
      "STN_tau      = 0.01\n",
      "GPi_tau      = 0.01\n",
      "Thalamus_tau = 0.01"
     ],
     "language": "python",
     "metadata": {},
     "outputs": [],
     "prompt_number": 4
    },
    {
     "cell_type": "code",
     "collapsed": false,
     "input": [
      "# Noise leve (%)\n",
      "Cortex_N   =   0.01\n",
      "Striatum_N =   0.001\n",
      "STN_N      =   0.001\n",
      "GPi_N      =   0.03\n",
      "Thalamus_N =   0.001"
     ],
     "language": "python",
     "metadata": {},
     "outputs": [],
     "prompt_number": 5
    },
    {
     "cell_type": "code",
     "collapsed": false,
     "input": [
      "# Sigmoid parameters\n",
      "Vmin       =   0.0\n",
      "Vmax       =  20.0\n",
      "Vh         =  16.0\n",
      "Vc         =   3.0"
     ],
     "language": "python",
     "metadata": {},
     "outputs": [],
     "prompt_number": 6
    },
    {
     "cell_type": "code",
     "collapsed": false,
     "input": [
      "# Learning parameters\n",
      "a_c = 0.05\n",
      "a_aLTP = 0.002\n",
      "a_aLTD= 0.001\n",
      "Wmin = 0.25 \n",
      "Wmax = 0.75"
     ],
     "language": "python",
     "metadata": {},
     "outputs": [],
     "prompt_number": 7
    },
    {
     "cell_type": "markdown",
     "metadata": {},
     "source": [
      "### Initialization of Values"
     ]
    },
    {
     "cell_type": "code",
     "collapsed": false,
     "input": [
      "simulation = 0\n",
      "trial = 0\n",
      "\n",
      "T = []\n",
      "C_Cx, M_Cx, A_Cx = [], [], []\n",
      "C_Str, M_Str, A_Str = [], [], []\n",
      "C_STN, M_STN = [], []\n",
      "C_GPi, M_GPi = [], []\n",
      "C_Th, M_Th = [], []\n",
      "\n",
      "Cue_Rw_Choice = np.zeros((120,7))\n",
      "equal_m_c = np.zeros(120)"
     ],
     "language": "python",
     "metadata": {},
     "outputs": [],
     "prompt_number": 8
    },
    {
     "cell_type": "code",
     "collapsed": false,
     "input": [
      "# Learning weights\n",
      "Weights = np.zeros((121,4))\n",
      "V_value = np.zeros((120,4))\n",
      "\n",
      "Cue_Values = np.ones((4,2))*7.0\n",
      "PR = np.linspace(0.,1.,4)\n",
      "R = np.zeros(120)\n",
      "Right_Choice = np.zeros(120)\n",
      "V = 0.5 * np.ones((4,1))"
     ],
     "language": "python",
     "metadata": {},
     "outputs": [],
     "prompt_number": 9
    },
    {
     "cell_type": "markdown",
     "metadata": {},
     "source": [
      "### Helper functions"
     ]
    },
    {
     "cell_type": "code",
     "collapsed": false,
     "input": [
      "def Boltzmann(V,Vmin=Vmin,Vmax=Vmax,Vh=Vh,Vc=Vc):\n",
      "    return  Vmin + (Vmax-Vmin)/(1.0+np.exp((Vh-V)/Vc))"
     ],
     "language": "python",
     "metadata": {},
     "outputs": [],
     "prompt_number": 10
    },
    {
     "cell_type": "code",
     "collapsed": false,
     "input": [
      "def noise(V, level):\n",
      "    return  V + np.random.normal(0,(abs(V)+0.0001)*level,V.shape)"
     ],
     "language": "python",
     "metadata": {},
     "outputs": [],
     "prompt_number": 11
    },
    {
     "cell_type": "code",
     "collapsed": false,
     "input": [
      "def init_weights(Initial_Weights, gain=1):\n",
      "    global Wmin, Wmax \n",
      "    N = np.random.normal(0.5, 0.005, Initial_Weights.shape)\n",
      "    N = np.minimum(np.maximum(N, 0.0),1.0)\n",
      "    return gain*Initial_Weights*(Wmin+(Wmax-Wmin)*N)"
     ],
     "language": "python",
     "metadata": {},
     "outputs": [],
     "prompt_number": 12
    },
    {
     "cell_type": "code",
     "collapsed": false,
     "input": [
      "def min_max(w, Wmin = Wmin, Wmax = Wmax):\n",
      "    return np.minimum(Wmax,np.maximum(w[w!=0],Wmin))"
     ],
     "language": "python",
     "metadata": {},
     "outputs": [],
     "prompt_number": 13
    },
    {
     "cell_type": "markdown",
     "metadata": {},
     "source": [
      "### Populations"
     ]
    },
    {
     "cell_type": "code",
     "collapsed": false,
     "input": [
      "Cortex_cog   = zeros((n,1), \"\"\"dV/dt = -V +U + (-V + noise(I+Iext,Cortex_N) - Cortex_h)/Cortex_tau;\n",
      "                               U = np.maximum(V,0); I; Iext\"\"\")\n",
      "Cortex_mot   = zeros((1,n), \"\"\"dV/dt = -V +U + (-V +noise(I+Iext,Cortex_N) - Cortex_h)/Cortex_tau;\n",
      "                               U = np.maximum(V,0); I; Iext\"\"\")\n",
      "Cortex_ass   = zeros((n,n), \"\"\"dV/dt = -V +U + (-V + Iext - Cortex_h)/Cortex_tau;\n",
      "                               U = np.maximum(noise(V,Cortex_N),0); Iext\"\"\")\n",
      "Striatum_cog = zeros((n,1), \"\"\"dV/dt = -V +U + (-V + noise(Boltzmann(I), Striatum_N) - Striatum_h)/Striatum_tau;\n",
      "                               U = np.maximum(V,0); I\"\"\")\n",
      "Striatum_mot = zeros((1,n), \"\"\"dV/dt = -V +U + (-V + noise(Boltzmann(I), Striatum_N) - Striatum_h)/Striatum_tau;\n",
      "                               U = np.maximum(V,0); I\"\"\")\n",
      "Striatum_ass = zeros((n,n), \"\"\"dV/dt = -V +U + (-V + noise(Boltzmann(0.2*I + I_Ass), Striatum_N) - Striatum_h)/Striatum_tau;\n",
      "                               U = np.maximum(V,0); I; I_Ass\"\"\")\n",
      "STN_cog      = zeros((n,1), \"\"\"dV/dt = -V +U + (-V + noise(I, STN_N) - STN_h)/STN_tau;\n",
      "                               U = np.maximum(V,0); I\"\"\")\n",
      "STN_mot      = zeros((1,n), \"\"\"dV/dt = -V +U + (-V +  noise(I, STN_N) - STN_h)/STN_tau;\n",
      "                               U = np.maximum(V,0); I\"\"\")\n",
      "GPi_cog      = zeros((n,1), \"\"\"dV/dt = -V +U + (-V + noise(-2.0*I_Str + I , GPi_N) - GPi_h)/GPi_tau;\n",
      "                               U = np.maximum(V,0); I_Str; I\"\"\")\n",
      "GPi_mot      = zeros((1,n), \"\"\"dV/dt = -V +U + (-V + noise(-2.0*I_Str + I , GPi_N) - GPi_h)/GPi_tau;\n",
      "                               U = np.maximum(V,0); I_Str; I\"\"\")\n",
      "Thalamus_cog = zeros((n,1), \"\"\"dV/dt = -V +U + (-V -0.5*I + 0.4*I_Cx - Thalamus_h)/Thalamus_tau;\n",
      "                               U = np.maximum(noise(V, Thalamus_N),0); I; I_Cx\"\"\")\n",
      "Thalamus_mot = zeros((1,n), \"\"\"dV/dt = -V +U + (-V -0.5*I + 0.4*I_Cx - Thalamus_h)/Thalamus_tau;\n",
      "                               U = np.maximum(noise(V,Thalamus_N),0); I; I_Cx\"\"\")"
     ],
     "language": "python",
     "metadata": {},
     "outputs": [
      {
       "ename": "ValueError",
       "evalue": "format number 1 of \"dV/dt = -V +U + (-V + noise(I+Iext,Cortex_N) - Cortex_h)/Cortex_tau;\n                               U = np.maximum(V,0); I; Iext\" is not recognized",
       "output_type": "pyerr",
       "traceback": [
        "\u001b[0;31m---------------------------------------------------------------------------\u001b[0m\n\u001b[0;31mValueError\u001b[0m                                Traceback (most recent call last)",
        "\u001b[0;32m<ipython-input-14-273f453dd47f>\u001b[0m in \u001b[0;36m<module>\u001b[0;34m()\u001b[0m\n\u001b[1;32m      1\u001b[0m Cortex_cog   = zeros((n,1), \"\"\"dV/dt = -V +U + (-V + noise(I+Iext,Cortex_N) - Cortex_h)/Cortex_tau;\n\u001b[0;32m----> 2\u001b[0;31m                                U = np.maximum(V,0); I; Iext\"\"\")\n\u001b[0m\u001b[1;32m      3\u001b[0m Cortex_mot   = zeros((1,n), \"\"\"dV/dt = -V +U + (-V +noise(I+Iext,Cortex_N) - Cortex_h)/Cortex_tau;\n\u001b[1;32m      4\u001b[0m                                U = np.maximum(V,0); I; Iext\"\"\")\n\u001b[1;32m      5\u001b[0m Cortex_ass   = zeros((n,n), \"\"\"dV/dt = -V +U + (-V + Iext - Cortex_h)/Cortex_tau;\n",
        "\u001b[0;32m/Users/admin/anaconda/lib/python2.7/site-packages/numpy/core/_internal.pyc\u001b[0m in \u001b[0;36m_commastring\u001b[0;34m(astr)\u001b[0m\n\u001b[1;32m    169\u001b[0m                     raise ValueError(\n\u001b[1;32m    170\u001b[0m                             \u001b[0;34m'format number %d of \"%s\" is not recognized'\u001b[0m \u001b[0;34m%\u001b[0m\u001b[0;34m\u001b[0m\u001b[0m\n\u001b[0;32m--> 171\u001b[0;31m                                             (len(result)+1, astr))\n\u001b[0m\u001b[1;32m    172\u001b[0m                 \u001b[0mstartindex\u001b[0m \u001b[0;34m=\u001b[0m \u001b[0mmo\u001b[0m\u001b[0;34m.\u001b[0m\u001b[0mend\u001b[0m\u001b[0;34m(\u001b[0m\u001b[0;34m)\u001b[0m\u001b[0;34m\u001b[0m\u001b[0m\n\u001b[1;32m    173\u001b[0m \u001b[0;34m\u001b[0m\u001b[0m\n",
        "\u001b[0;31mValueError\u001b[0m: format number 1 of \"dV/dt = -V +U + (-V + noise(I+Iext,Cortex_N) - Cortex_h)/Cortex_tau;\n                               U = np.maximum(V,0); I; Iext\" is not recognized"
       ]
      }
     ],
     "prompt_number": 14
    },
    {
     "cell_type": "markdown",
     "metadata": {},
     "source": [
      "### Connectivity"
     ]
    },
    {
     "cell_type": "code",
     "collapsed": false,
     "input": [
      "Cog_Con = DenseConnection( Cortex_cog('V'),   Striatum_cog('I'), 1.0)\n",
      "Initial_Cog_Con = Cog_Con._weights\n",
      "Cog_Con._weights = init_weights(Initial_Cog_Con) \n",
      "\n",
      "Mot_Con = DenseConnection( Cortex_mot('V'),   Striatum_mot('I'), 1.0)\n",
      "Initial_Mot_Con = Mot_Con._weights\n",
      "Mot_Con._weights = init_weights(Mot_Con._weights)\n",
      "\n",
      "Ass_Con = DenseConnection( Cortex_ass('V'),   Striatum_ass('I_Ass'), 1.0)\n",
      "Initial_Ass_Con = Ass_Con._weights\n",
      "Ass_Con._weights = init_weights(Ass_Con._weights)\n",
      "\n",
      "Cog_Ass_Con = DenseConnection( Cortex_cog('V'),   Striatum_ass('I'), np.ones((1,2*n+1)))\n",
      "Initial_Cog_Ass_Con = Cog_Ass_Con._weights\n",
      "Cog_Ass_Con._weights = init_weights(Cog_Ass_Con._weights)\n",
      "\n",
      "Mot_Ass_Con = DenseConnection( Cortex_mot('V'),   Striatum_ass('I'), np.ones((2*n+1,1)))\n",
      "Initial_Mot_Ass_Con = Mot_Ass_Con._weights\n",
      "Mot_Ass_Con._weights = init_weights(Mot_Ass_Con._weights)\n",
      "\n",
      "DenseConnection( Cortex_cog('V'),   STN_cog('I'),       1.0 )\n",
      "DenseConnection( Cortex_mot('V'),   STN_mot('I'),       1.0 )\n",
      "DenseConnection( Striatum_cog('V'), GPi_cog('I_Str'),      1.0 )\n",
      "DenseConnection( Striatum_mot('V'), GPi_mot('I_Str'),      1.0 )\n",
      "DenseConnection( Striatum_ass('V'), GPi_cog('I_Str'),      np.ones((1,2*n+1)))\n",
      "DenseConnection( Striatum_ass('V'), GPi_mot('I_Str'),      np.ones((2*n+1,1)))\n",
      "DenseConnection( STN_cog('V'),      GPi_cog('I'),       1.0*np.ones((2*n+1,1)) )\n",
      "DenseConnection( STN_mot('V'),      GPi_mot('I'),       1.0*np.ones((1,2*n+1)) )\n",
      "DenseConnection( GPi_cog('V'),      Thalamus_cog('I'), 1.0 )\n",
      "DenseConnection( GPi_mot('V'),      Thalamus_mot('I'), 1.0 )\n",
      "DenseConnection( Thalamus_cog('V'), Cortex_cog('I'),    1.0 )\n",
      "DenseConnection( Thalamus_mot('V'), Cortex_mot('I'),    1.0 )\n",
      "DenseConnection( Cortex_cog('V'),   Thalamus_cog('I_Cx'),  1.0 )\n",
      "DenseConnection( Cortex_mot('V'),   Thalamus_mot('I_Cx'),  1.0 )"
     ],
     "language": "python",
     "metadata": {},
     "outputs": []
    },
    {
     "cell_type": "markdown",
     "metadata": {},
     "source": [
      "### Cues Randomization for the Simulation"
     ]
    },
    {
     "cell_type": "code",
     "collapsed": false,
     "input": [
      "choices_cog  = np.array([[0,1],[0,2],[0,3],[1,2],[1,3],[2,3]])\n",
      "choices_mot  = np.array([[0,1],[0,2],[0,3],[1,2],[1,3],[2,3]])\n",
      "\n",
      "cues_cog = choices_cog.copy()\n",
      "cues_mot = choices_mot.copy()\n",
      "\n",
      "for i in range(1,20):\n",
      "    cues_cog = np.vstack((cues_cog,choices_cog))\n",
      "    cues_mot = np.vstack((cues_mot,choices_mot))"
     ],
     "language": "python",
     "metadata": {},
     "outputs": [],
     "prompt_number": 63
    },
    {
     "cell_type": "markdown",
     "metadata": {},
     "source": [
      "### Record Ensembles' Activity"
     ]
    },
    {
     "cell_type": "code",
     "collapsed": false,
     "input": [
      "@after(clock.tick)\n",
      "def register(t):\n",
      "    T.append(t)\n",
      "    C_Cx.append(Cortex_cog['V'].copy().ravel())\n",
      "    M_Cx.append(Cortex_mot['V'].copy().ravel())\n",
      "    A_Cx.append(Cortex_cog['V'].copy().ravel())\n",
      "    C_Str.append(Cortex_cog['V'].copy().ravel())\n",
      "    M_Str.append(Cortex_mot['V'].copy().ravel())\n",
      "    A_Str.append(Cortex_mot['V'].copy().ravel())\n",
      "    C_STN.append(Cortex_cog['V'].copy().ravel())\n",
      "    M_STN.append(Cortex_mot['V'].copy().ravel())\n",
      "    C_GPi.append(Cortex_cog['V'].copy().ravel())\n",
      "    M_GPi.append(Cortex_mot['V'].copy().ravel())\n",
      "    C_Th.append(Cortex_cog['V'].copy().ravel())\n",
      "    M_Th.append(Cortex_mot['V'].copy().ravel())"
     ],
     "language": "python",
     "metadata": {},
     "outputs": [],
     "prompt_number": 64
    },
    {
     "cell_type": "markdown",
     "metadata": {},
     "source": [
      "### Trial setup"
     ]
    },
    {
     "cell_type": "code",
     "collapsed": false,
     "input": [
      "@clock.every(3.0*second,500*millisecond)\n",
      "def set_trial(t):\n",
      "    global cues_cog, cues_mot, trial, Cue_Values\n",
      "    print 'trial = ', trial+1\n",
      "    c1, c2 = cues_cog[trial,0], cues_cog[trial,1]\n",
      "    m1, m2 = cues_mot[trial,0], cues_mot[trial,1]\n",
      "    print 'cues_cog = ', c1,c2\n",
      "    print 'cues_mot = ', m1,m2\n",
      "\n",
      "    Cortex_cog['Iext'][c1,0]  = Cue_Values[c1,0]\n",
      "    Cortex_cog['Iext'][c2,0]  = Cue_Values[c2,0]\n",
      "    Cortex_mot['Iext'][0,m1]  = Cue_Values[m1,1]\n",
      "    Cortex_mot['Iext'][0,m2]  = Cue_Values[m2,1]\n",
      "    Cortex_ass['Iext'][c1,m1] = Cue_Values[c1,0]\n",
      "    Cortex_ass['Iext'][c2,m2] = Cue_Values[c2,0]\n"
     ],
     "language": "python",
     "metadata": {},
     "outputs": [],
     "prompt_number": 65
    },
    {
     "cell_type": "markdown",
     "metadata": {},
     "source": [
      "### Selection"
     ]
    },
    {
     "cell_type": "code",
     "collapsed": false,
     "input": [
      "no_move = []\n",
      "@clock.every(3.0*second, 2.999*second)\n",
      "def selection(t):\n",
      "\tglobal trial, R, V\n",
      "    \n",
      "\tif trial == 0:\n",
      "\t\tWeights[trial] = Cog_Con.weights[0,0], Cog_Con.weights[1,1], Cog_Con.weights[2,2], Cog_Con.weights[3,3]\n",
      "        print Weights[trial]\n",
      "\t\t\n",
      "\tmove = -np.sort(-Cortex_mot['V'])[:,0] - 40 > -np.sort(-Cortex_mot['V'])[:,1]\n",
      "\tprint 'move = ', move\n",
      "\tif move:\n",
      "\t\tchoice = np.argmax(Cortex_mot['V'])\n",
      "\t\tprint 'choice = ', choice\n",
      "\t\tcognitive = np.argmax(Cortex_cog['V'])\n",
      "\t\tcog_right_ch = np.argmax(cues_cog[trial,:])\n",
      "\t\tmot_right_ch = cues_mot[trial,cog_right_ch]\n",
      "        \n",
      "\t\tch = np.where(choice == cues_mot[trial])\n",
      "\t\tprint 'moto choice place = ', ch\n",
      "\t\tprint 'cognitive = ', cognitive\n",
      "\t\tprint 'cues_cog[trial,ch] = ', cues_cog[trial,ch]\n",
      "\t\tequal_m_c[trial] = (1 if cognitive == cues_cog[trial,ch] else 0)\n",
      "\t\tprint 'equal_m_c = ', equal_m_c[trial]\n",
      "\t\tRight_Choice[trial] = (1 if mot_right_ch == choice else 0)\n",
      "\t\tprint 'Right_Choice = ', Right_Choice[trial]\n",
      "\t\tif np.any(cues_mot[trial] == choice):\n",
      "\t\t\tR[trial] = (1 if np.random.random() < PR[choice] else 0)\n",
      "\t\telse:\n",
      "\t\t\tR[trial] = 0\n",
      "\t\t\n",
      "\t\tprint 'Reward = ', R[trial], '\\n\\n'\n",
      "\t\tPE = R[trial] - V[choice]\n",
      "\t\tV[choice] = V[choice] + (PE * a_c)\n",
      "\t\tV_value[trial] = V.T\n",
      "\t\t\n",
      "\t\tdw = PE  * Striatum_cog['V'][choice][0]\n",
      "\t\ta = (a_aLTP if dw>0 else a_aLTD)  \n",
      "\t\tCog_Con.weights[choice, choice] = min_max(Cog_Con.weights[choice, choice] + (dw* a))\n",
      "        \n",
      "\t\tWeights[trial+1] = Cog_Con.weights[0,0], Cog_Con.weights[1,1], Cog_Con.weights[2,2], Cog_Con.weights[3,3]\n",
      "\t\t\n",
      "\telse:\n",
      "\t    no_move.append([trial])\n",
      "\t    Cue_Rw_Choice[trial, 4] =  1\n",
      "\tCue_Rw_Choice[trial, 5:] =  R[trial], Right_Choice[trial]\n",
      "\ttrial += 1"
     ],
     "language": "python",
     "metadata": {},
     "outputs": [],
     "prompt_number": 66
    },
    {
     "cell_type": "markdown",
     "metadata": {},
     "source": [
      "### Reset Of Activity Ensembles After Every Trial"
     ]
    },
    {
     "cell_type": "code",
     "collapsed": false,
     "input": [
      "@clock.every(3.0*second,3.0*second)\n",
      "def reset(time):\n",
      "    Cortex_mot['Iext'] = 0\n",
      "    Cortex_cog['Iext'] = 0\n",
      "    Cortex_ass['Iext'] = 0\n",
      "    \n",
      "    Cortex_cog['V'] = 0\n",
      "    Cortex_mot['V'] = 0\n",
      "    Cortex_ass['V'] = 0\n",
      "\n",
      "    Striatum_cog['V'] = 0\n",
      "    Striatum_mot['V'] = 0\n",
      "    Striatum_ass['V'] = 0\n",
      "\n",
      "    STN_cog['V'] = 0\n",
      "    STN_mot['V'] = 0\n",
      "\n",
      "    GPi_cog['V'] = 0\n",
      "    GPi_mot['V'] = 0\n",
      "\n",
      "    Thalamus_cog['V'] = 0\n",
      "    Thalamus_mot['V'] = 0"
     ],
     "language": "python",
     "metadata": {},
     "outputs": [],
     "prompt_number": 67
    },
    {
     "cell_type": "markdown",
     "metadata": {},
     "source": [
      "### Run simulation"
     ]
    },
    {
     "cell_type": "code",
     "collapsed": false,
     "input": [
      "#start = time.clock()\n",
      "#new_trial = time.clock()\n",
      "duration = 360*second\n",
      "dt = 1*millisecond\n",
      "run(time=duration, dt=dt)"
     ],
     "language": "python",
     "metadata": {},
     "outputs": [
      {
       "ename": "ClockException",
       "evalue": "Cannot set stop time while running.",
       "output_type": "pyerr",
       "traceback": [
        "\u001b[0;31m---------------------------------------------------------------------------\u001b[0m\n\u001b[0;31mClockException\u001b[0m                            Traceback (most recent call last)",
        "\u001b[0;32m<ipython-input-74-698eefb48f19>\u001b[0m in \u001b[0;36m<module>\u001b[0;34m()\u001b[0m\n\u001b[1;32m      3\u001b[0m \u001b[0mduration\u001b[0m \u001b[0;34m=\u001b[0m \u001b[0;36m360\u001b[0m\u001b[0;34m*\u001b[0m\u001b[0msecond\u001b[0m\u001b[0;34m\u001b[0m\u001b[0m\n\u001b[1;32m      4\u001b[0m \u001b[0mdt\u001b[0m \u001b[0;34m=\u001b[0m \u001b[0;36m1\u001b[0m\u001b[0;34m*\u001b[0m\u001b[0mmillisecond\u001b[0m\u001b[0;34m\u001b[0m\u001b[0m\n\u001b[0;32m----> 5\u001b[0;31m \u001b[0mrun\u001b[0m\u001b[0;34m(\u001b[0m\u001b[0mtime\u001b[0m\u001b[0;34m=\u001b[0m\u001b[0mduration\u001b[0m\u001b[0;34m,\u001b[0m \u001b[0mdt\u001b[0m\u001b[0;34m=\u001b[0m\u001b[0mdt\u001b[0m\u001b[0;34m)\u001b[0m\u001b[0;34m\u001b[0m\u001b[0m\n\u001b[0m",
        "\u001b[0;32m/Users/admin/anaconda/lib/python2.7/site-packages/dana/network.pyc\u001b[0m in \u001b[0;36mrun\u001b[0;34m(time, dt, n)\u001b[0m\n\u001b[1;32m    108\u001b[0m \u001b[0;32mdef\u001b[0m \u001b[0mrun\u001b[0m\u001b[0;34m(\u001b[0m\u001b[0mtime\u001b[0m\u001b[0;34m=\u001b[0m\u001b[0;36m1.0\u001b[0m\u001b[0;34m,\u001b[0m \u001b[0mdt\u001b[0m\u001b[0;34m=\u001b[0m\u001b[0;36m0.001\u001b[0m\u001b[0;34m,\u001b[0m \u001b[0mn\u001b[0m\u001b[0;34m=\u001b[0m\u001b[0mNone\u001b[0m\u001b[0;34m)\u001b[0m\u001b[0;34m:\u001b[0m\u001b[0;34m\u001b[0m\u001b[0m\n\u001b[1;32m    109\u001b[0m     \u001b[0;34m\"\"\" \"\"\"\u001b[0m\u001b[0;34m\u001b[0m\u001b[0m\n\u001b[0;32m--> 110\u001b[0;31m     \u001b[0m__default_network__\u001b[0m\u001b[0;34m.\u001b[0m\u001b[0mrun\u001b[0m\u001b[0;34m(\u001b[0m\u001b[0mtime\u001b[0m\u001b[0;34m,\u001b[0m \u001b[0mdt\u001b[0m\u001b[0;34m,\u001b[0m \u001b[0mn\u001b[0m\u001b[0;34m)\u001b[0m\u001b[0;34m\u001b[0m\u001b[0m\n\u001b[0m\u001b[1;32m    111\u001b[0m \u001b[0;34m\u001b[0m\u001b[0m\n\u001b[1;32m    112\u001b[0m \u001b[0;34m\u001b[0m\u001b[0m\n",
        "\u001b[0;32m/Users/admin/anaconda/lib/python2.7/site-packages/dana/network.pyc\u001b[0m in \u001b[0;36mrun\u001b[0;34m(self, time, dt, n)\u001b[0m\n\u001b[1;32m     69\u001b[0m             \u001b[0mself\u001b[0m\u001b[0;34m.\u001b[0m\u001b[0m_clock\u001b[0m\u001b[0;34m.\u001b[0m\u001b[0mdt\u001b[0m \u001b[0;34m=\u001b[0m \u001b[0;36m1.0\u001b[0m\u001b[0;34m\u001b[0m\u001b[0m\n\u001b[1;32m     70\u001b[0m         \u001b[0;32melse\u001b[0m\u001b[0;34m:\u001b[0m\u001b[0;34m\u001b[0m\u001b[0m\n\u001b[0;32m---> 71\u001b[0;31m             \u001b[0mself\u001b[0m\u001b[0;34m.\u001b[0m\u001b[0m_clock\u001b[0m\u001b[0;34m.\u001b[0m\u001b[0mstop\u001b[0m \u001b[0;34m=\u001b[0m \u001b[0mtime\u001b[0m\u001b[0;34m\u001b[0m\u001b[0m\n\u001b[0m\u001b[1;32m     72\u001b[0m             \u001b[0mself\u001b[0m\u001b[0;34m.\u001b[0m\u001b[0m_clock\u001b[0m\u001b[0;34m.\u001b[0m\u001b[0mdt\u001b[0m \u001b[0;34m=\u001b[0m \u001b[0mdt\u001b[0m\u001b[0;34m\u001b[0m\u001b[0m\n\u001b[1;32m     73\u001b[0m         \u001b[0mself\u001b[0m\u001b[0;34m.\u001b[0m\u001b[0msetup\u001b[0m\u001b[0;34m(\u001b[0m\u001b[0;34m)\u001b[0m\u001b[0;34m\u001b[0m\u001b[0m\n",
        "\u001b[0;32m/Users/admin/anaconda/lib/python2.7/site-packages/dana/clock.pyc\u001b[0m in \u001b[0;36m_set_stop\u001b[0;34m(self, time)\u001b[0m\n\u001b[1;32m    478\u001b[0m         \u001b[0;34m\"\"\" Set stop time \"\"\"\u001b[0m\u001b[0;34m\u001b[0m\u001b[0m\n\u001b[1;32m    479\u001b[0m         \u001b[0;32mif\u001b[0m \u001b[0mself\u001b[0m\u001b[0;34m.\u001b[0m\u001b[0m_running\u001b[0m\u001b[0;34m:\u001b[0m\u001b[0;34m\u001b[0m\u001b[0m\n\u001b[0;32m--> 480\u001b[0;31m             \u001b[0;32mraise\u001b[0m \u001b[0mClockException\u001b[0m\u001b[0;34m(\u001b[0m\u001b[0;34m'Cannot set stop time while running.'\u001b[0m\u001b[0;34m)\u001b[0m\u001b[0;34m\u001b[0m\u001b[0m\n\u001b[0m\u001b[1;32m    481\u001b[0m         \u001b[0;32mif\u001b[0m \u001b[0mself\u001b[0m\u001b[0;34m.\u001b[0m\u001b[0m_stop\u001b[0m \u001b[0;34m<\u001b[0m \u001b[0mself\u001b[0m\u001b[0;34m.\u001b[0m\u001b[0m_start\u001b[0m\u001b[0;34m:\u001b[0m\u001b[0;34m\u001b[0m\u001b[0m\n\u001b[1;32m    482\u001b[0m             \u001b[0;32mraise\u001b[0m \u001b[0mClockException\u001b[0m\u001b[0;34m(\u001b[0m\u001b[0;34m'Stop time must be superior to start time.'\u001b[0m\u001b[0;34m)\u001b[0m\u001b[0;34m\u001b[0m\u001b[0m\n",
        "\u001b[0;31mClockException\u001b[0m: Cannot set stop time while running."
       ]
      }
     ],
     "prompt_number": 74
    },
    {
     "cell_type": "markdown",
     "metadata": {},
     "source": [
      "## Display Cortex's Activity from a Trial    "
     ]
    },
    {
     "cell_type": "code",
     "collapsed": false,
     "input": [
      "trial_time = 3 * 1000 \n",
      "duration = np.linspace(trial_time*0,trial_time*1-1,3000).astype(int)\n",
      "\n",
      "C = np.array(C_Cx)\n",
      "M = np.array(M_Cx)\n",
      "\n",
      "plt.plot( C[duration],'b')\n",
      "plt.plot(C[duration],'b')\n",
      "plt.plot(C[duration],'b')\n",
      "plt.plot(C[duration],'b')\n",
      "plt.plot(M[duration],'r')\n",
      "plt.plot(M[duration],'r')\n",
      "plt.plot(M[duration],'r')\n",
      "plt.plot(M[duration],'r')\n",
      "plt.show()"
     ],
     "language": "python",
     "metadata": {},
     "outputs": [
      {
       "metadata": {},
       "output_type": "display_data",
       "png": "[encoded data removed]",
       "text": [
        "<matplotlib.figure.Figure at 0x109f28e90>"
       ]
      }
     ],
     "prompt_number": 71
    },
    {
     "cell_type": "markdown",
     "metadata": {},
     "source": [
      "### Display of Weights' Changing During Learning"
     ]
    },
    {
     "cell_type": "code",
     "collapsed": false,
     "input": [
      "plt.plot(Weights[:,0], 'y')\n",
      "plt.plot(Weights[:,1], 'b')\n",
      "plt.plot(Weights[:,2], 'r')\n",
      "plt.plot(Weights[:,3], 'm')\n",
      "plt.show()"
     ],
     "language": "python",
     "metadata": {},
     "outputs": [
      {
       "metadata": {},
       "output_type": "display_data",
       "png": "[encoded data removed]",
       "text": [
        "<matplotlib.figure.Figure at 0x111662e90>"
       ]
      }
     ],
     "prompt_number": 70
    },
    {
     "cell_type": "markdown",
     "metadata": {},
     "source": [
      "### Display of Values' Changing During Learning"
     ]
    },
    {
     "cell_type": "code",
     "collapsed": false,
     "input": [
      "plt.plot(V_value[:,0], 'y')\n",
      "plt.plot(V_value[:,1], 'b')\n",
      "plt.plot(V_value[:,2], 'r')\n",
      "plt.plot(V_value[:,3], 'm')\n",
      "plt.show()"
     ],
     "language": "python",
     "metadata": {},
     "outputs": [
      {
       "metadata": {},
       "output_type": "display_data",
       "png": "[encoded data removed]",
       "text": [
        "<matplotlib.figure.Figure at 0x109f3c410>"
       ]
      }
     ],
     "prompt_number": 69
    },
    {
     "cell_type": "markdown",
     "metadata": {},
     "source": [
      "### Display Equality of Cognitive and Motor Choice"
     ]
    },
    {
     "cell_type": "code",
     "collapsed": false,
     "input": [
      "zeros = np.array(np.where(equal_m_c == 0.0))\n",
      "\n",
      "ones = np.array(np.where(equal_m_c == 1.0))"
     ],
     "language": "python",
     "metadata": {},
     "outputs": [],
     "prompt_number": 42
    },
    {
     "cell_type": "code",
     "collapsed": false,
     "input": [
      "plt.hist(equal_m_c, bins = 3)\n",
      "plt.show()"
     ],
     "language": "python",
     "metadata": {},
     "outputs": [
      {
       "metadata": {},
       "output_type": "display_data",
       "png": "[encoded data removed]",
       "text": [
        "<matplotlib.figure.Figure at 0x109f33fd0>"
       ]
      }
     ],
     "prompt_number": 47
    },
    {
     "cell_type": "code",
     "collapsed": false,
     "input": [
      "plt.plot(zeros,'*')\n",
      "plt.show()"
     ],
     "language": "python",
     "metadata": {},
     "outputs": [
      {
       "metadata": {},
       "output_type": "display_data",
       "png": "[encoded data removed]",
       "text": [
        "<matplotlib.figure.Figure at 0x1116e4d10>"
       ]
      }
     ],
     "prompt_number": 44
    },
    {
     "cell_type": "code",
     "collapsed": false,
     "input": [],
     "language": "python",
     "metadata": {},
     "outputs": []
    }
   ],
   "metadata": {}
  }
 ]
}